{
  "nbformat": 4,
  "nbformat_minor": 0,
  "metadata": {
    "colab": {
      "name": "project1_ML.ipynb",
      "provenance": [],
      "authorship_tag": "ABX9TyMxbBnl97u04JagCN+VGVsx",
      "include_colab_link": true
    },
    "kernelspec": {
      "name": "python3",
      "display_name": "Python 3"
    },
    "language_info": {
      "name": "python"
    }
  },
  "cells": [
    {
      "cell_type": "markdown",
      "metadata": {
        "id": "view-in-github",
        "colab_type": "text"
      },
      "source": [
        "<a href=\"https://colab.research.google.com/github/HassinaKrim/HassinaProjects/blob/main/project1_ML.ipynb\" target=\"_parent\"><img src=\"https://colab.research.google.com/assets/colab-badge.svg\" alt=\"Open In Colab\"/></a>"
      ]
    },
    {
      "cell_type": "code",
      "execution_count": 2,
      "metadata": {
        "id": "iizwSUwP68tF"
      },
      "outputs": [],
      "source": [
        "#Importer les librairie \n",
        "import pandas as pd\n",
        "import numpy as np\n",
        "import matplotlib.pyplot as plt\n",
        "import seaborn as sns "
      ]
    },
    {
      "cell_type": "code",
      "source": [
        "# import data \n"
      ],
      "metadata": {
        "id": "9mYAJ3SJ7Zf5"
      },
      "execution_count": 3,
      "outputs": []
    }
  ]
}